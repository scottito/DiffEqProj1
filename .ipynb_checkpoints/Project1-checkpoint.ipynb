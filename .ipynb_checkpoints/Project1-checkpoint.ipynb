{
 "cells": [
  {
   "cell_type": "markdown",
   "id": "3af8b3b8-5e5f-485e-8944-e7639f6d9164",
   "metadata": {
    "tags": []
   },
   "source": [
    "## <center><ins>Project 1 - A Mathematical Investigation of Populations and Predator-Prey Dynamics</ins>\n",
    "<center> $\\color{red}{\\text{Due in Gradescope 7 March 2023 at 11:59 PM MST}}$ </center>\n",
    "    \n",
    "$\\textbf{By Scott Hardman, Alex, Soren}$"
   ]
  },
  {
   "cell_type": "markdown",
   "id": "46c7b9d1-15bc-4769-997f-bbd3113fa23e",
   "metadata": {
    "tags": []
   },
   "source": [
    "# 1 Introduction\n",
    "In the late 1980s, research scientists working for the National Forest Service in the Sierra Nevada conducted a study to understand why a\n",
    "native population of mule deer had dramatically decreased in size from a 1950s census. The investigators believed that the initial reason for\n",
    "the decrease in the deer population was over-population of the deer habitat. However, the population continued to decrease even after it had\n",
    "been reduced to a size that the environment could support. The researchers wanted to find out why the deer population never recovered.\n",
    "Over the course of the study, the investigators noticed that the native mountain lion population had steadily increased while the deer popula-\n",
    "tion decreased. Mountain lions are natural predators of deer. It is generally believed that a predator species such as a mountain lion benefits\n",
    "its prey population by keeping the prey population in balance with the environment. It does this by removing weak and old members of the\n",
    "prey population that would otherwise consume resources needed for younger, healthier members of the population to survive. In this way,\n",
    "the mountain lions (predators) are dependent upon the deer (prey) for their survival. The interactions of these species influence the evolution\n",
    "of each population over time.\n",
    "By studying the interactions of the deer and mountain lions, the researchers were able to deduce reasons why the deer population remained\n",
    "depressed years after its initial decline."
   ]
  },
  {
   "cell_type": "markdown",
   "id": "b6a78689-1a3b-4952-a93e-4c98e0f8a4c5",
   "metadata": {},
   "source": [
    "# 2 Modeling Individual Populations: the Logistic Equation\n",
    "Suppose that these scientists wanted to study the populations of mountain lions and deer mathematically. One way to approach this task is\n",
    "to individually model each population to see how it changes with time (under a number of simplifying assumptions).\n",
    "\n",
    "Assume the mountain lions are protected from hunting and have no natural predators. The mountain lions depend on the deer for food, but\n",
    "the deer population is finite. Thus, the amount of food available to the mountain lions is limited. Since the two populations are being studied\n",
    "separately, the mountain lion model must account for this constraint on its size without directly including the interactions of the mountain\n",
    "lions and the deer. A reasonable way to represent the change in the mountain lion population is with the logistic equation\n",
    "\n",
    "\\begin{equation*}\n",
    "\\frac{dx}{dt}=r\\left(1-\\frac{x}{L}\\right) x\n",
    "\\label{eq:exp_model} \\tag{1}\n",
    "\\end{equation*}\n",
    "\n",
    "In this equation, $x(t)$ is the size of the population (in dozens of animals) at any given time $t$ (in years). The parameter $r > 0$ is the intrinsic growth rate of the population and $L > 0$ is the carrying capacity of the population. An underlying assumption of this model is that the\n",
    "population will grow exponentially in the absence of any external constraints on its size. We see this exponential behavior if we only include\n",
    "the first term, $rx(t)$, of the equation. Of course, a population is naturally limited in size by the available resources such as food and/or\n",
    "shelter. The second term in the equation, $−rx(t)2/L$, is a correction factor that models the effect of environmental constraints naturally\n",
    "limiting the population’s growth.\n",
    "\n",
    "To model the deer population, it is reasonable to start from a logistic-type model because the deer are similarly limited by the resources\n",
    "in their environment. However, mountain lions are a natural predator of deer and are therefore a secondary means of restraining the deer\n",
    "population. It is sensible that the deer population model should include a predation term. A simple way to include the effect of predation\n",
    "on the deer population is to modify the logistic equation to include a “harvesting” term, $H(x)$, that represents the number of deer killed by\n",
    "mountain lions. The modified logistic equation with harvesting become\n",
    "\n",
    "\\begin{equation*}\n",
    "\\frac{dx}{dt}=r\\left(1-\\frac{x}{L}\\right) x - H(x)\n",
    "\\label{eq:log_model} \\tag{2}\n",
    "\\end{equation*}\n",
    "\n",
    "where the meaning of $x(t)$, $r$, and $L$ are the same as Eq. $\\eqref{eq:exp_model}$. A reasonable harvesting function could be\n",
    "\n",
    "\\begin{equation*}\n",
    "H(x) = \\frac{px^2}{q+x^2}\n",
    "\\label{eq:harvest} \\tag{3}\n",
    "\\end{equation*}\n",
    "\n",
    "The parameters $p$ and $q$ represent how skilled the mountain lions are at catching deer."
   ]
  },
  {
   "cell_type": "markdown",
   "id": "de9df2a3-aeff-4f4e-9e04-bb352c6dfd59",
   "metadata": {},
   "source": [
    "# 2.1 Question Set A"
   ]
  },
  {
   "cell_type": "markdown",
   "id": "9e9df8e4-d22f-4b86-a698-7697e50611a7",
   "metadata": {},
   "source": [
    "1. What are the units of the parameters r and L?"
   ]
  },
  {
   "cell_type": "markdown",
   "id": "8f11f0f0-8fa3-4c87-9a93-4174dcea906f",
   "metadata": {},
   "source": [
    "<center> $\\color{red}{\\text{TO DO}}$"
   ]
  },
  {
   "cell_type": "markdown",
   "id": "1b7a37b6-24b0-4657-b2ca-d299a71229ba",
   "metadata": {},
   "source": [
    "2. Find the equilibrium solutions of Eq. (1) (the equation without harvesting). Then use separation of variables to find the exact (non-equilibrium) solution to Eq. (1). Your answer should be reported in terms of the unspecified variables $x$ and $t$, the parameters $r$,$L$, and some unknown initial population $x(0) = x_0$. Write your answer in explicit form, $x(t) = ···$."
   ]
  },
  {
   "cell_type": "markdown",
   "id": "1d9d2583-c21e-4278-b765-d802386725d3",
   "metadata": {},
   "source": [
    "<center> $\\color{red}{\\text{TO DO}}$"
   ]
  },
  {
   "cell_type": "markdown",
   "id": "8c21ac76-6045-4f1f-87cc-62dca91b5e40",
   "metadata": {},
   "source": [
    "3. Suppose that the mountain lion population has an intrinsic growth rate of $r_m = 0.65$ and a carrying capacity of $L_m = 5.4$."
   ]
  },
  {
   "cell_type": "markdown",
   "id": "ad7fe825-5055-45cd-b141-247cd4d0dcf6",
   "metadata": {},
   "source": [
    "- (a) If there are initially $6$ mountain lions in the population, use Euler’s method over the interval $t \\in [0,30]$ with step sizes $h_1 = 0.5$,$h_2 = 0.1$, and $h_3 = 0.01$ to numerically solve the logistic equation (1). Plot the numerical solutions against the exact solution found in Question 2 above. The plot should contain three numerical solution curves, the exact solution curve, and a legend. Also, be sure to appropriately label your axes here and in subsequent plots. Discuss the plot. Specifically address how the value of the step size $h$ influences the accuracy of the numerical solution. For clarity, consider using different colors and/or different types of curves (e.g. solid, dashed, dotted) in your plots."
   ]
  },
  {
   "cell_type": "markdown",
   "id": "3fa1ede9-43ff-4f1c-ac21-4bc76c097760",
   "metadata": {},
   "source": [
    "<center> $\\color{red}{\\text{TO DO}}$"
   ]
  },
  {
   "cell_type": "markdown",
   "id": "301b46e0-b57a-49de-b56e-f55bd2740c5c",
   "metadata": {},
   "source": [
    "- (b) The absolute error of a numerical approximation is defined by \n",
    "$$\\text{Absolute Error} = \\big| \\text{Exact Solution} − \\text{Approximate Solution} \\big|$$\n",
    "Use semilogy to plot the absolute errors of all numerical solutions found in part $(a)$. Plot these error curves together on one plot and be sure to include a legend. Describe the plot. In particular, speculate about why the error curves contain downward “spikes” around time $t = 7$. "
   ]
  },
  {
   "cell_type": "markdown",
   "id": "f2d68c46-8cf2-492f-b2da-3ae7ca4c70fa",
   "metadata": {},
   "source": [
    "<center> $\\color{red}{\\text{TO DO}}$"
   ]
  },
  {
   "cell_type": "markdown",
   "id": "3766f73a-7a84-45a8-932a-38f371f3302e",
   "metadata": {},
   "source": [
    "- (c) Whenever a problem is solved numerically, it is important to make sure that the calculation carefully balances numerical “accuracy” - the correctness of the approximation obtained with numerical “efficiency”, which is the amount of time (number of computations) needed to complete the calculation. For the calculations in part (a) above, which step size might give the best balance of numerical accuracy and efficiency? Justify your response (the result of part (b) may help)"
   ]
  },
  {
   "cell_type": "markdown",
   "id": "eedc85f8-13f8-4430-86da-c53400f4801f",
   "metadata": {},
   "source": [
    "<center> $\\color{red}{\\text{TO DO}}$"
   ]
  },
  {
   "cell_type": "code",
   "execution_count": null,
   "id": "84c14e91-48df-469b-a4bf-5fcf50e7018f",
   "metadata": {},
   "outputs": [],
   "source": []
  }
 ],
 "metadata": {
  "kernelspec": {
   "display_name": "Python 3 (ipykernel)",
   "language": "python",
   "name": "python3"
  },
  "language_info": {
   "codemirror_mode": {
    "name": "ipython",
    "version": 3
   },
   "file_extension": ".py",
   "mimetype": "text/x-python",
   "name": "python",
   "nbconvert_exporter": "python",
   "pygments_lexer": "ipython3",
   "version": "3.10.8"
  }
 },
 "nbformat": 4,
 "nbformat_minor": 5
}
