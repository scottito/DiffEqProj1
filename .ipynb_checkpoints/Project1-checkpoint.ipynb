{
 "cells": [
  {
   "cell_type": "markdown",
   "id": "3af8b3b8-5e5f-485e-8944-e7639f6d9164",
   "metadata": {
    "tags": []
   },
   "source": [
    "## <center><ins>Project 1 - A Mathematical Investigation of Populations and Predator-Prey Dynamics</ins>\n",
    "<center> $\\color{red}{\\text{Due in Gradescope 7 March 2023 at 11:59 PM MST}}$ </center>\n",
    "    \n",
    "$\\textbf{By Scott Hardman, Alex, Soren}$"
   ]
  },
  {
   "cell_type": "markdown",
   "id": "46c7b9d1-15bc-4769-997f-bbd3113fa23e",
   "metadata": {
    "tags": []
   },
   "source": [
    "# 1 Introduction\n",
    "In the late 1980s, research scientists working for the National Forest Service in the Sierra Nevada conducted a study to understand why a\n",
    "native population of mule deer had dramatically decreased in size from a 1950s census. The investigators believed that the initial reason for\n",
    "the decrease in the deer population was over-population of the deer habitat. However, the population continued to decrease even after it had\n",
    "been reduced to a size that the environment could support. The researchers wanted to find out why the deer population never recovered.\n",
    "Over the course of the study, the investigators noticed that the native mountain lion population had steadily increased while the deer popula-\n",
    "tion decreased. Mountain lions are natural predators of deer. It is generally believed that a predator species such as a mountain lion benefits\n",
    "its prey population by keeping the prey population in balance with the environment. It does this by removing weak and old members of the\n",
    "prey population that would otherwise consume resources needed for younger, healthier members of the population to survive. In this way,\n",
    "the mountain lions (predators) are dependent upon the deer (prey) for their survival. The interactions of these species influence the evolution\n",
    "of each population over time.\n",
    "By studying the interactions of the deer and mountain lions, the researchers were able to deduce reasons why the deer population remained\n",
    "depressed years after its initial decline."
   ]
  },
  {
   "cell_type": "markdown",
   "id": "b6a78689-1a3b-4952-a93e-4c98e0f8a4c5",
   "metadata": {},
   "source": [
    "# 2 Modeling Individual Populations: the Logistic Equation\n",
    "Suppose that these scientists wanted to study the populations of mountain lions and deer mathematically. One way to approach this task is\n",
    "to individually model each population to see how it changes with time (under a number of simplifying assumptions).\n",
    "\n",
    "Assume the mountain lions are protected from hunting and have no natural predators. The mountain lions depend on the deer for food, but\n",
    "the deer population is finite. Thus, the amount of food available to the mountain lions is limited. Since the two populations are being studied\n",
    "separately, the mountain lion model must account for this constraint on its size without directly including the interactions of the mountain\n",
    "lions and the deer. A reasonable way to represent the change in the mountain lion population is with the logistic equation\n",
    "\n",
    "\\begin{equation*}\n",
    "\\frac{dx}{dt}=r\\left(1-\\frac{x}{L}\\right) x\n",
    "\\label{eq:exp_model} \\tag{1}\n",
    "\\end{equation*}\n",
    "\n",
    "In this equation, $x(t)$ is the size of the population (in dozens of animals) at any given time $t$ (in years). The parameter $r > 0$ is the intrinsic growth rate of the population and $L > 0$ is the carrying capacity of the population. An underlying assumption of this model is that the\n",
    "population will grow exponentially in the absence of any external constraints on its size. We see this exponential behavior if we only include\n",
    "the first term, $rx(t)$, of the equation. Of course, a population is naturally limited in size by the available resources such as food and/or\n",
    "shelter. The second term in the equation, $−rx(t)2/L$, is a correction factor that models the effect of environmental constraints naturally\n",
    "limiting the population’s growth.\n",
    "\n",
    "To model the deer population, it is reasonable to start from a logistic-type model because the deer are similarly limited by the resources\n",
    "in their environment. However, mountain lions are a natural predator of deer and are therefore a secondary means of restraining the deer\n",
    "population. It is sensible that the deer population model should include a predation term. A simple way to include the effect of predation\n",
    "on the deer population is to modify the logistic equation to include a “harvesting” term, $H(x)$, that represents the number of deer killed by\n",
    "mountain lions. The modified logistic equation with harvesting become\n",
    "\n",
    "\\begin{equation*}\n",
    "\\frac{dx}{dt}=r\\left(1-\\frac{x}{L}\\right) x - H(x)\n",
    "\\label{eq:log_model} \\tag{2}\n",
    "\\end{equation*}\n",
    "\n",
    "where the meaning of $x(t)$, $r$, and $L$ are the same as Eq. $\\eqref{eq:exp_model}$. A reasonable harvesting function could be\n",
    "\n",
    "\\begin{equation*}\n",
    "H(x) = \\frac{px^2}{q+x^2}\n",
    "\\label{eq:harvest} \\tag{3}\n",
    "\\end{equation*}\n",
    "\n",
    "The parameters $p$ and $q$ represent how skilled the mountain lions are at catching deer."
   ]
  },
  {
   "cell_type": "markdown",
   "id": "de9df2a3-aeff-4f4e-9e04-bb352c6dfd59",
   "metadata": {},
   "source": [
    "# 2.1 Question Set A"
   ]
  },
  {
   "cell_type": "markdown",
   "id": "9e9df8e4-d22f-4b86-a698-7697e50611a7",
   "metadata": {},
   "source": [
    "1. What are the units of the parameters r and L?"
   ]
  },
  {
   "cell_type": "markdown",
   "id": "8f11f0f0-8fa3-4c87-9a93-4174dcea906f",
   "metadata": {},
   "source": [
    "- $r$ is the intrinsic growth rate of the population and it is unitless. $r$ cannot have any units because it represents the ratio of animals in the population that reproduce, or contribute to population growth, in a given time.\n",
    "\n",
    "- The units of $L$ is animals (deer/mountain lions). $L$ represents the maximum number of animals the environment can sustain, or the carrying capacity."
   ]
  },
  {
   "cell_type": "markdown",
   "id": "1b7a37b6-24b0-4657-b2ca-d299a71229ba",
   "metadata": {},
   "source": [
    "2. Find the equilibrium solutions of Eq. (1) (the equation without harvesting). Then use separation of variables to find the exact (non-equilibrium) solution to Eq. (1). Your answer should be reported in terms of the unspecified variables $ x $ and $ t $, the parameters $ r $,$ L $, and some unknown initial population $x(0) = x_0$. Write your answer in explicit form, $x(t) = ···$."
   ]
  },
  {
   "cell_type": "markdown",
   "id": "1d9d2583-c21e-4278-b765-d802386725d3",
   "metadata": {},
   "source": [
    "$\\textbf{Equilibrium Solutions:}$ \n",
    "\n",
    "Occur when $$\\frac{dx}{dt}=0$$\n",
    "\n",
    "Therefore:\n",
    "$$\\frac{dx}{dt} = 0 = r(1-\\frac{x}{L})x$$\n",
    "When $x = 0$ and $x = L$\n",
    "_________________________________________________________\n",
    "$\\textbf{Finding Exact Solution:}$\n",
    "\n",
    "Seperation of variables:\n",
    "\n",
    "$$\\frac{dx}{dt} = r(1-\\frac{x}{L})x$$\n",
    "\n",
    "$$\\int\\frac{dx}{(1-\\frac{x}{L})x}dx = \\int{rdt}$$\n",
    "\n",
    "The left hand side requires integration by partial fraction decomposition:\n",
    "$$\\int{\\frac{dx}{(1-\\frac{x}{L})x}} = \\int(\\frac{A}{1-\\frac{x}{L}}+\\frac{B}{x})dx$$\n",
    "\n",
    "$${\\frac{1}{(1-\\frac{x}{L})x}} = \\frac{Ax}{(1-\\frac{x}{L})x}+\\frac{B}{(1-\\frac{x}{L})x}$$\n",
    "\n",
    "$$1 = Ax + B(1-\\frac{x}{L})$$\n",
    "Solve for A & B by setting x equal to zeros:\n",
    "\n",
    "When $x = 0; B = 1$\n",
    "\n",
    "When $x = L; A = L^{-1}$\n",
    "\n",
    "Plug in A and B values found, and integrate:\n",
    "$$\\int\\frac{A}{1-\\frac{x}{L}}+\\frac{B}{x}dx = \\int{r}dt$$\n",
    "\n",
    "$$\\int\\frac{L^{-1}}{1-\\frac{x}{L}}+\\frac{1}{x}dx = \\int{r}dt$$\n",
    "\n",
    "$$\\frac{1}{L}\\int\\frac{1}{1-\\frac{x}{L}}dx+\\int{\\frac{1}{x}}dx = \\int{r}dt$$\n",
    "\n",
    "Let $\\quad u = 1-\\frac{x}{L}$\n",
    "\n",
    "Then $\\quad -Ldu = dx$\n",
    "\n",
    "$$\\int{\\frac{1}{u}du} + \\int{\\frac{1}{x}dx} = \\int{r}dt$$\n",
    "\n",
    "$$-\\ln{|u|} + \\ln{|x|} = rt + C$$\n",
    "\n",
    "$$\\ln{|\\frac{x}{u}|} = rt + C$$\n",
    "\n",
    "$$\\ln{|\\frac{x}{(1-\\frac{x}{L}})|} = rt + C$$\n",
    "\n",
    "$$|\\frac{x}{(1-\\frac{x}{L})}| = e^{rt}+e^C$$\n",
    "\n",
    "$$x = Ce^{rt}-\\frac{Ce^{rt}}{L}$$\n",
    "\n",
    "$$ x(1-\\frac{Ce^{rt}}{L}) = Ce^{rt}$$\n",
    "\n",
    "$$ x = \\frac{Ce^{rt}}{1-Ce^{rt}}$$\n",
    "\n",
    "Finding C:\n",
    "\n",
    "when $t = 0; x = x_0$\n",
    "\n",
    "using $$\\frac{x}{1-\\frac{x}{L}} = Ce^{rt}$$\n",
    "$$\\frac{x_0}{1-\\frac{x_0}{L}} = Ce^0$$\n",
    "$$\\frac{x_0}{1-\\frac{x_0}{L}} = C$$\n",
    "\n",
    "Substitute C in the General Solution:\n",
    "$$ x = \\frac{\\frac{x_0}{1-\\frac{x_0}{L}}e^{rt}}{1-\\frac{x_0}{1-\\frac{x_0}{L}}e^{rt}}$$"
   ]
  },
  {
   "cell_type": "markdown",
   "id": "8c21ac76-6045-4f1f-87cc-62dca91b5e40",
   "metadata": {},
   "source": [
    "3. Suppose that the mountain lion population has an intrinsic growth rate of $r_m = 0.65$ and a carrying capacity of $L_m = 5.4$."
   ]
  },
  {
   "cell_type": "markdown",
   "id": "ad7fe825-5055-45cd-b141-247cd4d0dcf6",
   "metadata": {},
   "source": [
    "- (a) If there are initially $6$ mountain lions in the population, use Euler’s method over the interval $t \\in [0,30]$ with step sizes $h_1 = 0.5$,$h_2 = 0.1$, and $h_3 = 0.01$ to numerically solve the logistic equation (1). Plot the numerical solutions against the exact solution found in Question 2 above. The plot should contain three numerical solution curves, the exact solution curve, and a legend. Also, be sure to appropriately label your axes here and in subsequent plots. Discuss the plot. Specifically address how the value of the step size $h$ influences the accuracy of the numerical solution. For clarity, consider using different colors and/or different types of curves (e.g. solid, dashed, dotted) in your plots."
   ]
  },
  {
   "cell_type": "code",
   "execution_count": 3,
   "id": "7b7d38ae-8da7-485e-8d64-9107e75092d1",
   "metadata": {},
   "outputs": [],
   "source": [
    "import numpy as np\n",
    "import matplotlib.pyplot as plt\n",
    "\n",
    "# Define constants\n",
    "x0 = 6 # Initially 6 mtn lions\n",
    "r = 0.65 # Given intrinsic growth rate\n",
    "L = 5.4 # Given carrying capacity\n",
    "\n",
    "# Step sizes\n",
    "h1 = 0.5\n",
    "h2 = 0.1\n",
    "h3 = 0.01\n",
    "\n",
    "# Intervals\n",
    "I1 = np.arange(0,30,h1)\n",
    "I2 = np.arange(0,30,h2)\n",
    "I3 = np.arange(0,30,h3)\n",
    "\n",
    "# Define equation (1)\n",
    "def f(t, x):\n",
    "    return r*(1-x/L)*x\n",
    "\n",
    "# Use Euler's method to find approximations\n",
    "def eulers(h,I):\n",
    "    # Number of points to be calculated\n",
    "    n = len(I)\n",
    "    # List to hold estimate values\n",
    "    x = np.zeros(n)\n",
    "    x[0] = x0 # Set initial value\n",
    "    # Estimate x values\n",
    "    for i in range(n-1):\n",
    "        x[i+1] = x[i] + h * f(I[i], x[i])\n",
    "    # Return an array tuple we can graph\n",
    "    return (I,x)"
   ]
  },
  {
   "cell_type": "code",
   "execution_count": 4,
   "id": "295c6b55-5b14-4b93-99fa-fa4ab2e54777",
   "metadata": {},
   "outputs": [],
   "source": [
    "# The actual answer to the system:\n",
    "def solution(t):\n",
    "    return L / (1+(L/x0)*np.exp(-r*t))"
   ]
  },
  {
   "cell_type": "code",
   "execution_count": 5,
   "id": "9330656a-06ab-4563-9e5f-113773b93ae3",
   "metadata": {},
   "outputs": [
    {
     "data": {
      "image/png": "[encoded data removed]",
      "text/plain": [
       "<Figure size 640x480 with 1 Axes>"
      ]
     },
     "metadata": {},
     "output_type": "display_data"
    }
   ],
   "source": [
    "# Create graph of estimate with step size 0.5\n",
    "t1, x1 = eulers(h1,I1)\n",
    "plt.plot(t1, x1, label=\"h = 0.5\")\n",
    "\n",
    "# Create graph of estimate with step size 0.1\n",
    "t2, x2 = eulers(h2,I2)\n",
    "plt.plot(t2, x2, label=\"h = 0.1\")\n",
    "\n",
    "# Create graph of estimate with step size 0.01\n",
    "t3, x3 = eulers(h3,I3)\n",
    "plt.plot(t3, x3, label=\"h = 0.01\")\n",
    "\n",
    "t = np.linspace(0,30,1000)\n",
    "x = solution(t)\n",
    "plt.plot(t, x, label=\"Solution\")\n",
    "\n",
    "# Make the plot pretty\n",
    "plt.title(\"Euler's Estimate for Mountain Lion Pop.\")\n",
    "plt.xlabel(\"Time\")\n",
    "plt.ylabel(\"Mountain Lions\")\n",
    "plt.grid()\n",
    "plt.legend()\n",
    "\n",
    "plt.show()"
   ]
  },
  {
   "cell_type": "markdown",
   "id": "301b46e0-b57a-49de-b56e-f55bd2740c5c",
   "metadata": {},
   "source": [
    "- (b) The absolute error of a numerical approximation is defined by \n",
    "$$\\text{Absolute Error} = \\big| \\text{Exact Solution} − \\text{Approximate Solution} \\big|$$\n",
    "Use semilogy to plot the absolute errors of all numerical solutions found in part $(a)$. Plot these error curves together on one plot and be sure to include a legend. Describe the plot. In particular, speculate about why the error curves contain downward “spikes” around time $t = 7$. "
   ]
  },
  {
   "cell_type": "code",
   "execution_count": 6,
   "id": "18d9d37c-adf5-44b3-aa1e-31a06cb727c0",
   "metadata": {},
   "outputs": [],
   "source": [
    "# Function to calculate the error in each estimate\n",
    "def error(h, x):\n",
    "     # Number of points to be calculated\n",
    "    n = len(x)\n",
    "    # List to hold error values\n",
    "    e = np.zeros(n)\n",
    "    # Find error values\n",
    "    for i in range(n):\n",
    "        e[i] = abs(x[i] - solution(h*i)) \n",
    "    # Return an array of error\n",
    "    return e"
   ]
  },
  {
   "cell_type": "code",
   "execution_count": 11,
   "id": "147e5059-31ab-462a-ac7e-e569d6cc5183",
   "metadata": {},
   "outputs": [
    {
     "data": {
      "image/png": "[encoded data removed]",
      "text/plain": [
       "<Figure size 640x480 with 1 Axes>"
      ]
     },
     "metadata": {},
     "output_type": "display_data"
    }
   ],
   "source": [
    "# Create graph of errors with step size 0.5\n",
    "e1 = error(h1,x1)\n",
    "plt.plot(t1, e1, label=\"h = 0.5\")\n",
    "\n",
    "# Create graph of errors with step size 0.1\n",
    "e2 = error(h2,x2)\n",
    "plt.plot(t2, e2, '--', label=\"h = 0.1\")\n",
    "\n",
    "# Create graph of errors with step size 0.01\n",
    "e3 = error(h3,x3)\n",
    "plt.plot(t3, e3, ':', label=\"h = 0.01\")\n",
    "\n",
    "# Make the plot pretty\n",
    "plt.title(\"Error in Estimates for Mountain Lion Pop.\")\n",
    "plt.xlabel(\"Time\")\n",
    "plt.ylabel(\"Error (Mountain Lions)\")\n",
    "plt.grid()\n",
    "plt.legend()\n",
    "\n",
    "plt.show()"
   ]
  },
  {
   "cell_type": "markdown",
   "id": "3766f73a-7a84-45a8-932a-38f371f3302e",
   "metadata": {},
   "source": [
    "- (c) Whenever a problem is solved numerically, it is important to make sure that the calculation carefully balances numerical “accuracy” - the correctness of the approximation obtained with numerical “efficiency”, which is the amount of time (number of computations) needed to complete the calculation. For the calculations in part (a) above, which step size might give the best balance of numerical accuracy and efficiency? Justify your response (the result of part (b) may help)"
   ]
  },
  {
   "cell_type": "markdown",
   "id": "eedc85f8-13f8-4430-86da-c53400f4801f",
   "metadata": {},
   "source": [
    "<center> $\\color{red}{\\text{TO DO}}$"
   ]
  },
  {
   "cell_type": "markdown",
   "id": "1d96b5dc-6ba1-47d2-b036-3d215a207af3",
   "metadata": {},
   "source": [
    "4. Classify the differential equation (2), the equation with harvesting. Is it linear? What is its order? Is it autonomous? Describe the physical meaning of autonomy or non-autonomy for this equation."
   ]
  },
  {
   "cell_type": "markdown",
   "id": "b3462995-7bd6-4b07-a6b6-97d021021ef7",
   "metadata": {},
   "source": [
    "The equation is not linear, the equation is first order, and the equation is autonomous. Physically it means the model is based solely off the initial populations of the mountain lions and deer. No other factors such as over eating the grass will affect the populations of the mountain lions or deer."
   ]
  },
  {
   "cell_type": "markdown",
   "id": "c08c1584-b1b2-4341-adba-51bd78a1d74f",
   "metadata": {},
   "source": [
    "5. Explore the behavior of the harvesting function (3) (a plot might help). What happens to H(x) as x becomes very large? What if x is close to 0? Does this make sense physically? Explain."
   ]
  },
  {
   "cell_type": "markdown",
   "id": "e86b6357-a514-4165-969f-c3e37745f829",
   "metadata": {},
   "source": [
    "If X being the number of deer is small, than the harvest of deer will be small. The limit of the curve is also determined by the skill, p, of the mountain lions. The higher the skill of hunting meaning the more deer they can harvest. The limit is based on the number of available deer, and the skill of hunting of the mountain lions."
   ]
  },
  {
   "cell_type": "markdown",
   "id": "82e262bf-34b6-48ea-bea7-57183523ca9a",
   "metadata": {},
   "source": [
    "6. Suppose the deer population also has an intrinsic growth rate of $r_d = 0.65$ but has a carrying capacity of $L_d = 8.1$ and let $p = 1.2$ and $q = 1$ in the harvesting function"
   ]
  },
  {
   "cell_type": "markdown",
   "id": "31cb6850-32cd-413e-ac1d-65f3921184b6",
   "metadata": {},
   "source": [
    "- (a) Find the positive equilibrium solutions of Eq. (2) (to 4 decimal places) using the values of the parameters above. Graphing the right hand side of (2) may prove beneficial. The Matlab command `fzero` can be used to find the equilibrium solutions and information about this command can be obtained by typing help `fzero` in Matlab."
   ]
  },
  {
   "cell_type": "markdown",
   "id": "d2ec02c8-32e4-4be7-90c9-71a143c1ab15",
   "metadata": {},
   "source": [
    "<center> $\\color{red}{\\text{TO DO}}$"
   ]
  },
  {
   "cell_type": "markdown",
   "id": "5bed2105-44c2-4cb1-b935-4283db8a87d8",
   "metadata": {},
   "source": [
    "- (b) Modify the code in `dirfield.m` in Matlab so that it computes the direction field of the logistic equation with harvesting (2)"
   ]
  },
  {
   "cell_type": "markdown",
   "id": "2f750bd3-0039-4d82-b37f-1670ee16d8b2",
   "metadata": {},
   "source": [
    "<center> $\\color{red}{\\text{TO DO}}$"
   ]
  },
  {
   "cell_type": "markdown",
   "id": "1af01bbe-b268-47cc-97e8-c627a782d610",
   "metadata": {},
   "source": [
    "- (c) Use Euler’s method over the interval $t \\in [0,30]$ with a step size of $h = 0.1$ to numerically solve the logistic equation with harvesting (2) four separate times assuming initial dear populations of 84, 24, 18, and 6 animals."
   ]
  },
  {
   "cell_type": "markdown",
   "id": "1215ee55-9991-4348-8065-c7ab8b104ea4",
   "metadata": {},
   "source": [
    "<center> $\\color{red}{\\text{TO DO}}$"
   ]
  },
  {
   "cell_type": "markdown",
   "id": "16d2d5d5-8eb5-4d74-850f-c1c0580328ea",
   "metadata": {},
   "source": [
    "- (d) Plot the Euler solutions from (c), the equilibrium solutions, and the direction field of (2) together against $t$, including a legend for the solution curves. Discuss the plot. In particular, describe how the behavior of the solution curves changes with the initial condition and speculate about why this might be. (Hint: think about the locations and stability of equilibrium solution"
   ]
  },
  {
   "cell_type": "markdown",
   "id": "ddf1eb4f-6f24-44c8-82d5-435a30ccd8ee",
   "metadata": {},
   "source": [
    "<center> $\\color{red}{\\text{TO DO}}$"
   ]
  },
  {
   "cell_type": "markdown",
   "id": "e26a6f63-0046-4d0d-9af2-88498bef91e9",
   "metadata": {},
   "source": [
    "# 3 Modeling Population Interactions\n",
    "Other than the harvesting term used to describe the effect of predation on the deer population in (2), neither of the logistic equations (1) nor\n",
    "(2) directly accounts for the interactions of the two populations. To more formally study how the populations respond to the pressures of\n",
    "both internal competition and external predator-prey interactions, the models must be adjusted to include the interactions of predator and\n",
    "prey and then solved simultaneously as a system. There are a number of ways to account for the interdependence of the two species."
   ]
  },
  {
   "cell_type": "markdown",
   "id": "ba5ad799-8eb9-4fdf-8226-793e78fc6e3d",
   "metadata": {},
   "source": [
    "# 3.1 The Lotka-Volterra System\n",
    "One of the simplest models of predator-prey interactions is the Lotka – Volterra system"
   ]
  },
  {
   "cell_type": "markdown",
   "id": "3895fb1f-b2c1-4ce9-aeb8-e69803a0d73f",
   "metadata": {},
   "source": [
    "\\begin{equation*}\n",
    "\\frac{dx_1}{dt}=-\\alpha x_1 +\\beta x_1 x_2\n",
    "\\\\ \\frac{dx_2}{dt} =\\gamma x_2 - \\delta x_1 x_2\n",
    "\\label{eq:LotkaVolterra} \\tag{4}\n",
    "\\end{equation*}\n",
    "\n",
    "The Lotka-Volterra system is a result of the Balance Law: the net rate of change of a population is equal to the rate in of members\n",
    "(birth/immigration) minus the rate out of members (death/emigration). In this model, the variable $x_1$ represents the predator population and\n",
    "$x_2$ represents the prey population. These variables both reside in the first quadrant of the $x_1 x_2$-plane, which is also called the population\n",
    "quadrant. The positive parameters $\\alpha$, $\\beta$, $\\gamma$, $\\delta$ can be interpreted as follows:\n",
    "\n",
    "<table>\n",
    "  <tr>\n",
    "    <td>&alpha;</td>\n",
    "    <td>Predator mortality rate</td>\n",
    "  </tr>\n",
    "  <tr>\n",
    "    <td>&beta;</td>\n",
    "    <td>Predator attack rate / conversion efficiency (food into offspring)</td>\n",
    "  </tr>\n",
    "  <tr>\n",
    "    <td>&gamma;</td>\n",
    "    <td>Prey growth rate</td>\n",
    "  </tr>\n",
    "  <tr>\n",
    "    <td>&delta;</td>\n",
    "    <td>Prey mortality rate / searching efficiency / attack rate</td>\n",
    "  </tr>\n",
    "</table>\n",
    "\n",
    "The cross terms, $\\beta x_1x_2$ and $−\\delta x_1x_2$, in this model represent the interactions of the two species. Notice that the predator population is\n",
    "affected positively and the prey population is affected negatively by interactions. In other words, the abundance of food (prey) promotes\n",
    "the predator’s growth rate but the presence of predators diminishes the prey’s growth rate. A basic assumption of this model is that, in\n",
    "the absence of interaction, each population will obey an exponential growth model wherein the predator population $x′_1 = −\\alpha x_1$ decays\n",
    "exponentially to zero while the prey population $x′_2 = \\beta x_2$ grows exponentially and without bound."
   ]
  },
  {
   "cell_type": "markdown",
   "id": "804d5235-67ad-409a-af6f-c138d5d45efa",
   "metadata": {},
   "source": [
    "# 3.2 Question Set B"
   ]
  },
  {
   "cell_type": "markdown",
   "id": "8cd7f5aa-723b-42ce-9383-f2034fc9924b",
   "metadata": {},
   "source": [
    "1. Classify the Lotka-Volterra system (4). Is it linear? Autonomous? What is its order?"
   ]
  },
  {
   "cell_type": "markdown",
   "id": "050767e2-4ba3-4370-ba54-e5a1255a8a76",
   "metadata": {},
   "source": [
    "<center> $\\color{red}{\\text{TO DO}}$"
   ]
  },
  {
   "cell_type": "markdown",
   "id": "a550bb41-12e2-4f6d-9eed-fa55182003d7",
   "metadata": {},
   "source": [
    "2. Analytically find the v and h nullclines and all equilibrium solutions of (4). DO NOT use specific values for any of the parameters $\\alpha$, $\\beta$, $\\gamma$, or $\\delta$."
   ]
  },
  {
   "cell_type": "markdown",
   "id": "4e707839-5433-4d27-ba14-d4f10759ddd5",
   "metadata": {},
   "source": [
    "<center> $\\color{red}{\\text{TO DO}}$"
   ]
  },
  {
   "cell_type": "markdown",
   "id": "964914bd-b9ee-42a7-a9bf-19d1faa0054e",
   "metadata": {},
   "source": [
    "3. Assign the parameters in (4) the values $\\alpha = 1.5$, $\\beta = 1.1$, $\\gamma = 2.5$, and $\\delta = 1.4$. Modify the script flow.m in Matlab so it computes the vector field of the system (4). Plot the following together in the $x_1x_2$-plane (phase plane) and label the curves appropriately (note: the “$x_1x_2$”-plane (phase plane) means that the $x_1$ species is plotted on the x-axis and the $x_2$ species is plotted on the y-axis:"
   ]
  },
  {
   "cell_type": "markdown",
   "id": "eb79d82b-9b18-4f66-9757-2df09c1eb1d3",
   "metadata": {},
   "source": [
    "- (a) Use flow.m to plot the vector field of (4) on the domain −1 < x1 < 6, −1 < x2 < 6"
   ]
  },
  {
   "cell_type": "code",
   "execution_count": 18,
   "id": "ae395e56-6ff5-4c75-81ce-0ac5bee69991",
   "metadata": {},
   "outputs": [],
   "source": [
    "# Function to get vector at a given point on the x1-x2 plane\n",
    "def func(time, y, alpha, beta, gamma, delta):\n",
    "    x1, x2 = y\n",
    "    dx1dt = -alpha * x1 + beta * x1 * x2\n",
    "    dx2dt = gamma * x2 - delta * x1 * x2\n",
    "    return np.array([dx1dt, dx2dt])\n",
    "\n",
    "# Define constants\n",
    "alpha = 1.5\n",
    "beta = 1.1\n",
    "gamma = 2.5\n",
    "delta = 1.4\n",
    "\n",
    "# linspaces for graphing\n",
    "x1 = np.linspace(-1, 6, 20)\n",
    "x2 = np.linspace(-1, 6, 20)\n",
    "time = np.linspace(-1, 6, 20)\n",
    "X1, X2 = np.meshgrid(x1, x2)\n",
    "\n",
    "# Plot of direction field is done below so that the nullclines can be layered over it"
   ]
  },
  {
   "cell_type": "markdown",
   "id": "b2403317-5933-4635-bf21-f33fc4b4c08f",
   "metadata": {},
   "source": [
    "- (b) Plot the nullclines of (4) on the domain $−1 < x1 < 6$, $−1 < x2 < 6$<br>\n",
    "> i. Plot all nullclines that come from the $x′_1$ equation (v nullclines) in red<br>\n",
    "> ii. Plot all nullclines that come from the $x′_2$ equation (h nullclines) in black"
   ]
  },
  {
   "cell_type": "code",
   "execution_count": 19,
   "id": "9411338a-c02c-4d0d-abd6-f46c4412aab2",
   "metadata": {},
   "outputs": [],
   "source": [
    "# linspaces for graphing\n",
    "tory = np.linspace(-1,6,20)\n",
    "other = np.ones(20)\n",
    "\n",
    "h1 = 0 # y=0\n",
    "h2 = gamma/delta # t= gamma/delta\n",
    "\n",
    "v1 = 0 # t=0\n",
    "v2 = alpha/beta # y= alpha/beta"
   ]
  },
  {
   "cell_type": "markdown",
   "id": "d3ef41b8-9a75-44b6-9779-b4389618a56f",
   "metadata": {},
   "source": [
    "- (c) Mark all equilibrium solutions with green circles, filled for stable equilibria and open for unstable equilibria"
   ]
  },
  {
   "cell_type": "code",
   "execution_count": 32,
   "id": "fbb37345-5164-4a50-892d-68ba1db54e4c",
   "metadata": {},
   "outputs": [
    {
     "data": {
      "text/plain": [
       "<function matplotlib.pyplot.show(close=None, block=None)>"
      ]
     },
     "execution_count": 32,
     "metadata": {},
     "output_type": "execute_result"
    },
    {
     "data": {
      "image/png": "[encoded data removed]",
      "text/plain": [
       "<Figure size 640x480 with 1 Axes>"
      ]
     },
     "metadata": {},
     "output_type": "display_data"
    }
   ],
   "source": [
    "# Plot for direction field\n",
    "fig, ax = plt.subplots()\n",
    "ax.set_xlabel('x1')\n",
    "ax.set_ylabel('x2')\n",
    "\n",
    "# Get normalized vectors indicating direction at each point and graph in blue\n",
    "for x10 in np.linspace(-1, 6, 20):\n",
    "    for x20 in np.linspace(-1, 6, 20):\n",
    "        y0 = np.array([x10, x20])\n",
    "        dx = func(t, np.array([X1, X2]), alpha, beta, gamma, delta)[0]\n",
    "        dy = func(t, np.array([X1, X2]), alpha, beta, gamma, delta)[1]\n",
    "        magnitude = np.sqrt(dx**2 + dy**2)\n",
    "        ax.quiver(X1, X2, dx/magnitude, dy/magnitude, color='b', alpha=0.3)\n",
    "\n",
    "# Plot horizontal nullclines in black\n",
    "plt.plot(tory, h1*other, color=\"black\", linewidth=2)\n",
    "plt.plot(h2*other, tory, color=\"black\", linewidth=2)\n",
    "\n",
    "# Plot vertical nullclines in red\n",
    "plt.plot(v1*other, tory, \"r\", linewidth=2)\n",
    "plt.plot(tory, v2*other, \"r\", linewidth=2)\n",
    "\n",
    "# Add green circles at equilibrium points\n",
    "eq1 = plt.Circle((0, 0), 0.2, color='g', fill=False, linewidth=2)\n",
    "eq2 = plt.Circle((h2, v2), 0.2, color='g', fill=True, linewidth=2)\n",
    "ax.add_patch(eq1)\n",
    "ax.add_patch(eq2)\n",
    "\n",
    "plt.show()"
   ]
  },
  {
   "cell_type": "markdown",
   "id": "d567c62e-96db-4674-8bf8-b9ac38f967c6",
   "metadata": {},
   "source": [
    "4. Use ode454 in Matlab to simulate solutions to (4) starting from the initial condition $x_1(0) = 0.5$, $x_2(0) = 1.0$ over the time interval $t \\in [0, 30]$, then plot the following together:"
   ]
  },
  {
   "cell_type": "markdown",
   "id": "10c8a101-7376-45be-bfd4-3b5c6433a8e3",
   "metadata": {},
   "source": [
    "- (a) Use flow.m to plot the vector field of (4) on the domain $−1 < x_1 < 6$, $−1 < x_2 < 6$"
   ]
  },
  {
   "cell_type": "markdown",
   "id": "a0745ce3-5451-4a5d-a1da-5fbcce6cad65",
   "metadata": {},
   "source": [
    "- (b) Plot the trajectory, the solutions of (4), on the domain $−1 < x_1 < 6$, $−1 < x_2 < 6$. The trajectory is the set of parametric points $(x_1(t), x_2(t))$ generated by plotting $x_2$ against $x_1$."
   ]
  },
  {
   "cell_type": "markdown",
   "id": "b0e8b251-a379-47d8-89ba-a48ab4dffcef",
   "metadata": {},
   "source": [
    "Does the solution curve behave as expected? Why or why not?"
   ]
  },
  {
   "cell_type": "markdown",
   "id": "d6cbafdd-fef7-4bed-8f3f-b08d4ae86ae2",
   "metadata": {},
   "source": [
    "<center> $\\color{red}{\\text{TO DO}}$"
   ]
  },
  {
   "cell_type": "markdown",
   "id": "ddfdd868-51b8-4ed6-a46d-c20e4ebd8b84",
   "metadata": {},
   "source": [
    "5. Use ode45 in Matlab to simulate solutions to (4) starting from the initial condition $x_1(0) = 0.5$, $x_2(0) = 1.0$ over the time interval $t \\in [0, 30]$. Plot the component curves $x_1(t)$ and $x_2(t)$ together against $t$ (include a legend). Discuss these plots. Are the curves in phase or out of phase? What does this mean physically in terms of predator-prey interactions? Note that the “component curve” solutions are given by all pairs of points $(t, x_1(t))$ and $(t, x_2(t))$."
   ]
  },
  {
   "cell_type": "markdown",
   "id": "9ed6be04-497d-4583-bcf1-8001d992709d",
   "metadata": {},
   "source": [
    "<center> $\\color{red}{\\text{TO DO}}$"
   ]
  },
  {
   "cell_type": "markdown",
   "id": "396ceff6-5b0d-4177-bc96-14acaa658fd8",
   "metadata": {},
   "source": [
    "# 3.3 The Logistic Predator-Prey Equations"
   ]
  },
  {
   "cell_type": "markdown",
   "id": "62f0ef6a-8a0b-4c18-a556-9043b12cd2db",
   "metadata": {},
   "source": [
    "Recall that an underlying assumption of (4) is that both species will exhibit exponential behavior if there are no inter-species interactions,\n",
    "that is, if the interaction terms $x_1x_2$ are excluded from the model. This assumption ignores the natural limits imposed on a prey population\n",
    "by its environment, such as finite food. A slightly more complicated but realistic way to model predator-prey interactions is to adjust the\n",
    "prey equation $x′_2$ to include these constraints, which gives rise to the Logistic Predator-Prey system\n",
    "\n",
    "\\begin{equation*}\n",
    "\\frac{dx_1}{dt}=-\\alpha x_1 +\\beta x_1 x_2\n",
    "\\\\ \\frac{dx_2}{dt} =\\gamma(1-\\kappa x_2) x_2 - \\delta x_1 x_2\n",
    "\\label{eq:LogisticPredatorPrey} \\tag{5}\n",
    "\\end{equation*}\n",
    "\n",
    "Now the underlying assumption of this model is, in the absence of predation, the prey population will obey a logistic growth model instead\n",
    "of an exponential growth model. This means that\n",
    "\n",
    "- If the prey population is small, the rate of growth is approximately proportional to its size\n",
    "- If the prey population is too large to be supported by its environment, the rate of change of the population will decrease\n",
    "\n",
    "As in (4), if the species do not interact the predator population will exhibit exponentially decaying solutions."
   ]
  },
  {
   "cell_type": "markdown",
   "id": "10070dd3-1b98-4f49-9030-e74b04a5f669",
   "metadata": {},
   "source": [
    "# 3.4 Question Set C"
   ]
  },
  {
   "cell_type": "markdown",
   "id": "8c4c2543-4a25-434e-8bc0-30cffdcf3bce",
   "metadata": {},
   "source": [
    "1. Analytically find the $v$ and $h$ nullclines and equilibrium solutions of the Logistic Predator-Prey system (5)."
   ]
  },
  {
   "cell_type": "markdown",
   "id": "39a666b0-5789-4f74-a6a4-606df25919fe",
   "metadata": {},
   "source": [
    "<center> $\\color{red}{\\text{TO DO}}$"
   ]
  },
  {
   "cell_type": "markdown",
   "id": "0f270cef-105c-4a3d-a80a-2b88adbf5a76",
   "metadata": {},
   "source": [
    "2. Assign the parameters in (5) the values $\\alpha = 1.5$, $\\beta = 1.1$, $\\gamma = 2.5$, $\\delta = 1.4$, and $\\kappa = 0.5$. Modify the script flow.m in Matlab so it computes the vector field of the system (5). Use ode45 in Matlab to simulate solutions to (5) starting from the initial conditions $(x_1(0), x_2(0)) = (5, 1)$ and $(x_1(0), x_2(0)) = (1, 5)$ over the time interval $t \\in [0, 30]$ and then, using the color scheme of Question Set B number 3, plot the following $together$:\n",
    "- (a) Use flow.m to plot the vector field of (5) on the domain $−1 < x1 < 6$, $−1 < x2 < 6$\n",
    "- (b) Plot the nullclines and the equilibrium solutions of (5) on the domain $−1 < x1 < 6$, $−1 < x2 < 6$\n",
    "- (c) Plot the trajectories (x1, x2) on the domain $−1 < x1 < 6$, $−1 < x2 < 6$\n",
    "\n",
    "Discuss the plot. What can you say about the stability of the equilibrium solutions? How does this influence the solution curve?"
   ]
  },
  {
   "cell_type": "markdown",
   "id": "c2544fe6-0eb4-4ad8-8ce5-47c89fc7d3ac",
   "metadata": {},
   "source": [
    "<center> $\\color{red}{\\text{TO DO}}$"
   ]
  },
  {
   "cell_type": "markdown",
   "id": "600d2203-65fb-40cd-910c-77922711cc49",
   "metadata": {},
   "source": [
    "3. Assign the parameters in (5) the values $\\alpha = 1.5$, $\\beta = 1.1$, $\\gamma = 2.5$, $\\delta = 1.4$, and $\\kappa = 0.5$. Use ode45 in Matlab to simulate solutions to (5) starting from the initial conditions $(x_1(0), x_2(0)) = (5, 1)$ and $(x_1(0), x_2(0)) = (1, 5)$ over the time interval $t \\in [0, 30]$. Plot the component curves $x_1(t)$ and $x_2(t)$ together against $t$, including a legend. Make a separate plot for each of the initial conditions. Discuss the solution curves. Are they periodic? Is there asymptotic behavior?"
   ]
  },
  {
   "cell_type": "markdown",
   "id": "2686f872-f30b-4510-a64f-8f81498b7025",
   "metadata": {},
   "source": [
    "<center> $\\color{red}{\\text{TO DO}}$"
   ]
  },
  {
   "cell_type": "markdown",
   "id": "0ba460f3-c2f7-49ab-805f-d323bf1c8726",
   "metadata": {},
   "source": [
    "# Model Comparison"
   ]
  },
  {
   "cell_type": "markdown",
   "id": "9dab8f67-1de3-461c-9069-c9fdbd027a3c",
   "metadata": {},
   "source": [
    "Compare and contrast the Lotka-Volterra (4) and the Logistic Predator-Prey (5) models. What are some strengths and weaknesses of each\n",
    "model? Propose a modification to one or both of these models that might increase the accuracy of their predictions. Why/how does this\n",
    "improve the model?"
   ]
  },
  {
   "cell_type": "markdown",
   "id": "3a2ee99b-c8e3-49bc-9267-5d635a0453f5",
   "metadata": {},
   "source": [
    "<center> $\\color{red}{\\text{TO DO}}$"
   ]
  },
  {
   "cell_type": "code",
   "execution_count": null,
   "id": "4de3ae7a-3eb6-4df3-a2c8-f642f32106e6",
   "metadata": {},
   "outputs": [],
   "source": []
  }
 ],
 "metadata": {
  "kernelspec": {
   "display_name": "Python 3 (ipykernel)",
   "language": "python",
   "name": "python3"
  },
  "language_info": {
   "codemirror_mode": {
    "name": "ipython",
    "version": 3
   },
   "file_extension": ".py",
   "mimetype": "text/x-python",
   "name": "python",
   "nbconvert_exporter": "python",
   "pygments_lexer": "ipython3",
   "version": "3.10.8"
  }
 },
 "nbformat": 4,
 "nbformat_minor": 5
}
