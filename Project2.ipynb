{
 "cells": [
  {
   "cell_type": "markdown",
   "id": "4c29c03a-1da2-4a84-9aed-3cc3fda1aad9",
   "metadata": {
    "tags": []
   },
   "source": [
    "## <center><ins>Project 2 - Building Bridges and Beams</ins>\n",
    "<center> $\\color{red}{\\text{Due in Gradescope 11 April 2023 at 11:59 PM MDT}}$\n",
    "    \n",
    "$\\textbf{By Scott Hardman, Alex Livingston, Erik Sorenson}$"
   ]
  },
  {
   "cell_type": "markdown",
   "id": "77eef2f7-4086-49d4-ab6b-e371b3e97a26",
   "metadata": {},
   "source": [
    "# 1 Introduction"
   ]
  },
  {
   "cell_type": "markdown",
   "id": "db5c8b09-38cc-455d-a06b-dc528ff7c66e",
   "metadata": {},
   "source": [
    "In this project we will consider two problems from civil engineering using techniques from linear algebra and differential equations. The\n",
    "first problem involves the distribution of forces in a simple bridge, and the second is concerned with the deflection of a beam under uniform\n",
    "loading."
   ]
  },
  {
   "cell_type": "markdown",
   "id": "f9a7b1cd-5b95-4a2a-9fc0-624f9d092c9d",
   "metadata": {},
   "source": [
    "# 2 Distribution of Forces in a Bridge"
   ]
  },
  {
   "cell_type": "markdown",
   "id": "4aa59959-4aea-4c81-b49d-c40ea9c4fb43",
   "metadata": {},
   "source": [
    "## 2.1 Background\n",
    "\n",
    "In bridge design, one is interested in connecting lightweight pieces together to make a truss which can support weight. The pieces of the\n",
    "truss (black lines in Figure 1) are connected together by pin joints (blue boxes) which are designed to rotate and transfer forces between the\n",
    "pieces."
   ]
  },
  {
   "cell_type": "markdown",
   "id": "7fb5ca89-99ed-4af3-8580-70da0fb55079",
   "metadata": {},
   "source": [
    "![title](img/picture.png)"
   ]
  }
 ],
 "metadata": {
  "kernelspec": {
   "display_name": "Python 3 (ipykernel)",
   "language": "python",
   "name": "python3"
  },
  "language_info": {
   "codemirror_mode": {
    "name": "ipython",
    "version": 3
   },
   "file_extension": ".py",
   "mimetype": "text/x-python",
   "name": "python",
   "nbconvert_exporter": "python",
   "pygments_lexer": "ipython3",
   "version": "3.10.8"
  }
 },
 "nbformat": 4,
 "nbformat_minor": 5
}
