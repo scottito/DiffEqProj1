{
 "cells": [
  {
   "cell_type": "raw",
   "id": "7e6b421b-65eb-4440-97ed-febf85c10dc2",
   "metadata": {
    "tags": []
   },
   "source": [
    "## <center><ins>Project 2 - Building Bridges and Beams</ins>\n",
    "<center> $\\color{red}{\\text{Due in Gradescope 11 April 2023 at 11:59 PM MDT}}$\n",
    "    \n",
    "$\\textbf{By Scott Hardman, Alex Livingston, Erik Sorenson}$"
   ]
  },
  {
   "cell_type": "markdown",
   "id": "77eef2f7-4086-49d4-ab6b-e371b3e97a26",
   "metadata": {},
   "source": [
    "# 1 Introduction"
   ]
  },
  {
   "cell_type": "markdown",
   "id": "db5c8b09-38cc-455d-a06b-dc528ff7c66e",
   "metadata": {},
   "source": [
    "In this project we will consider two problems from civil engineering using techniques from linear algebra and differential equations. The\n",
    "first problem involves the distribution of forces in a simple bridge, and the second is concerned with the deflection of a beam under uniform\n",
    "loading."
   ]
  },
  {
   "cell_type": "markdown",
   "id": "f9a7b1cd-5b95-4a2a-9fc0-624f9d092c9d",
   "metadata": {},
   "source": [
    "# 2 Distribution of Forces in a Bridge"
   ]
  },
  {
   "cell_type": "markdown",
   "id": "4aa59959-4aea-4c81-b49d-c40ea9c4fb43",
   "metadata": {},
   "source": [
    "### 2.1 Background\n",
    "\n",
    "In bridge design, one is interested in connecting lightweight pieces together to make a truss which can support weight. The pieces of the\n",
    "truss (black lines in Figure 1) are connected together by pin joints (blue boxes) which are designed to rotate and transfer forces between the\n",
    "pieces."
   ]
  },
  {
   "cell_type": "markdown",
   "id": "7fb5ca89-99ed-4af3-8580-70da0fb55079",
   "metadata": {},
   "source": [
    "![Fig1](Fig1.png)"
   ]
  },
  {
   "cell_type": "markdown",
   "id": "1aa87b30-e38b-4870-bf71-183a28120a07",
   "metadata": {},
   "source": [
    "Figure 1: Distribution of the forces in a bridge."
   ]
  },
  {
   "cell_type": "markdown",
   "id": "46cfdcb0-3989-45b4-9b8a-2886df6b608a",
   "metadata": {},
   "source": [
    "In the diagram in Figure 1, each arrow indicates the direction of a force and is labeled according to its magnitude. Blue arrows indicate\n",
    "forces on the joints due to tension in the corresponding piece of the truss, and red arrows indicate external forces on the joints. In a given\n",
    "piece of the truss, a positive value for fi\n",
    "indicates tension, while a negative value indicates compression. Pin joints 2 and 4 are held in\n",
    "place vertically by external forces F1 and F2, respectively, but are free to move horizontally. The remaining pin joints are free to move both\n",
    "horizontally and vertically. A load of 5000 newtons is placed at joint 3, and the problem is to determine the remaining unknown tensions\n",
    "and forces in the bridge."
   ]
  },
  {
   "cell_type": "markdown",
   "id": "face93a6-eef3-4af5-8e10-49634f7f0e7c",
   "metadata": {},
   "source": [
    "In order for the bridge to be in equilibrium, both the horizontal and vertical components of force must sum to zero at each of the pin joints.\n",
    "For example, consider pin joint 2. Balancing the forces in the horizontal and vertical directions gives two equations:"
   ]
  },
  {
   "cell_type": "markdown",
   "id": "049b01f3-dcc0-4aa3-9ead-01c321c5cb8a",
   "metadata": {},
   "source": [
    "$$\\text{Horizontal:  } f_1 \\cos \\frac{\\pi}{4}+f_4=0,\\qquad \\text{Vertical:  } f_1 \\sin \\frac{\\pi}{4} = F_1.$$"
   ]
  },
  {
   "cell_type": "markdown",
   "id": "072b5097-d6ad-483a-8b56-269ed94d3902",
   "metadata": {},
   "source": [
    "### 2.2 Task Set A"
   ]
  },
  {
   "cell_type": "markdown",
   "id": "c302f01b-336a-4128-8bc6-418953c3e127",
   "metadata": {},
   "source": [
    "#### 1."
   ]
  },
  {
   "cell_type": "markdown",
   "id": "8f68eef7-b619-4ba1-893e-74be8d825b0a",
   "metadata": {},
   "source": [
    "Using the diagram of the bridge in Figure 1, write down a set of linear equations for the unknown tensions $(f1, f2, f3, f4, f5)$ and external forces $(F1, F2)$. Display your equations by completing the following table:"
   ]
  },
  {
   "cell_type": "markdown",
   "id": "c6f590bc-8049-42f5-9fb3-794d9153625f",
   "metadata": {},
   "source": [
    "<center>$\\color{red}{\\text{TO DO}}$"
   ]
  },
  {
   "cell_type": "markdown",
   "id": "9e42a93e-d8c4-4298-8965-f79866b9419e",
   "metadata": {},
   "source": [
    "#### 2."
   ]
  },
  {
   "cell_type": "markdown",
   "id": "25de945a-0eb0-4443-990e-911538827c47",
   "metadata": {},
   "source": [
    "(a) Write the linear system of equations from problem 1 in the form $A\\vec{f}=\\vec{b}$. where\n",
    "$$\\vec{f}=\\left[\\, f_1\\, f_2\\, f_3\\, f_4\\, f_5\\, F_1\\, F_2\\,\\right]^{T}$$"
   ]
  },
  {
   "cell_type": "markdown",
   "id": "c3b583f6-4a88-4c48-b517-5de81596e278",
   "metadata": {},
   "source": [
    "$$\\begin{bmatrix}\n",
    "        \\frac{\\sqrt{3}}{2} & 0 & \\frac{1}{2} & 0 & 0 & 0 & 0 \\\\\n",
    "        \\frac{\\sqrt{2}}{2} & 0 & 0 & 1 & 0 & 0 & 0 \\\\\n",
    "        0 & 0 & 0 & 1 & 1 & 0 & 0 \\\\\n",
    "        0 & 0 & \\frac{1}{2} & 0 & 1 & 0 & 0 \\\\\n",
    "        \\frac{\\sqrt{2}}{2} & 1 & \\frac{\\sqrt{3}}{2} & 0 & 0 & 0 & 0 \\\\\n",
    "        \\frac{\\sqrt{2}}{2} & 0 & 0 & 0 & 0 & 1 & 0 \\\\\n",
    "        0 & 1 & 0 & 0 & 0 & 0 & 0 \\\\\n",
    "        0 & 0 & \\frac{\\sqrt{3}}{2} & 0 & 0 & 0 & 1 \\\\\n",
    "    \\end{bmatrix}\n",
    "\\times\n",
    "\\begin{bmatrix}\n",
    "        f_1 \\\\\n",
    "        f_2 \\\\\n",
    "        f_3 \\\\\n",
    "        f_4 \\\\\n",
    "        f_5 \\\\\n",
    "        F_1 \\\\\n",
    "        F_2 \\\\\n",
    "    \\end{bmatrix}\n",
    "=\n",
    "\\begin{bmatrix}\n",
    "        0 \\\\\n",
    "        0 \\\\\n",
    "        0 \\\\\n",
    "        0 \\\\\n",
    "        0 \\\\\n",
    "        0 \\\\\n",
    "        5000 \\\\\n",
    "        0 \\\\\n",
    "    \\end{bmatrix}\n",
    "$$"
   ]
  },
  {
   "cell_type": "markdown",
   "id": "8c0d87c3-6c1c-4622-a308-d320213d989d",
   "metadata": {},
   "source": [
    "(b) What are the orders of $A$, $\\vec{f}$, and $\\vec{b}$? Check your answer using the size function in Matlab. Is the system overdetermined or\n",
    "underdetermined or neither?"
   ]
  },
  {
   "cell_type": "markdown",
   "id": "26083bbb-fd03-4765-b941-e4025e54d64b",
   "metadata": {},
   "source": [
    "Orders of the following matrices:\n",
    "\n",
    "$A$ = 8 x 7\n",
    "\n",
    "$\\vec{f}$ = 7 x 1\n",
    "\n",
    "$\\vec{b}$ = 8 x 1\n",
    "\n",
    "This set of matrices will allow for $A$ and $\\vec{f}$ to be multiplied together due to their dimension to output a 8 x 1 matrix."
   ]
  },
  {
   "cell_type": "markdown",
   "id": "ce92aa7a-6d55-4d81-a872-ef2057f58032",
   "metadata": {},
   "source": [
    "(c) Is it possible to calculate the determinant of A? If so, find it. If not, explain why not."
   ]
  },
  {
   "cell_type": "markdown",
   "id": "f787e793-5f08-4da2-aa0f-5b5ef1413d2a",
   "metadata": {},
   "source": [
    "No, because in order to calculate the determinant, it requires the matrix to be a square n x n matrix, which $A$ is an n x m matrix."
   ]
  },
  {
   "cell_type": "markdown",
   "id": "4d9d35fb-4a2b-42eb-b203-6aebc2e2666f",
   "metadata": {},
   "source": [
    "#### 3."
   ]
  },
  {
   "cell_type": "markdown",
   "id": "b1003f5a-c070-41b8-baa5-fca9b17770c3",
   "metadata": {},
   "source": [
    "(a) Form the augmented matrix for the linear system and put it into reduced row echelon form (RREF). Feel free to use the rref command in Matlab. Include the RREF of this augmented matrix in your report."
   ]
  },
  {
   "cell_type": "markdown",
   "id": "c5c8622a-897a-465a-90ea-62143eacef1c",
   "metadata": {},
   "source": [
    "$$\n",
    "\\begin{bmatrix}\n",
    "        1 & 0 & 0 & 0 & 0 & 0 & 0 \\\\\n",
    "        0 & 1 & 0 & 0 & 0 & 0 & 0 \\\\\n",
    "        0 & 0 & 1 & 0 & 0 & 0 & 0 \\\\\n",
    "        0 & 0 & 0 & 1 & 0 & 0 & 0 \\\\\n",
    "        0 & 0 & 0 & 0 & 1 & 0 & 0 \\\\\n",
    "        0 & 0 & 0 & 0 & 0 & 1 & 0 \\\\\n",
    "        0 & 0 & 0 & 0 & 0 & 0 & 1 \\\\\n",
    "        0 & 0 & 0 & 0 & 0 & 0 & 0 \\\\\n",
    "    \\end{bmatrix}\n",
    "$$"
   ]
  },
  {
   "cell_type": "markdown",
   "id": "5f602b93-ce30-4d33-8adf-0157947bb14a",
   "metadata": {},
   "source": [
    "(b) What is the rank of A?"
   ]
  },
  {
   "cell_type": "markdown",
   "id": "d1386fb1-aa33-4a7f-8449-c87ad536d3b8",
   "metadata": {},
   "source": [
    "Rank is the number of pivots, which are the columns with all zeros and one 1 value. This matrix has 6 pivots, meaning its rank is 6."
   ]
  },
  {
   "cell_type": "markdown",
   "id": "b1bcee62-e524-44cf-a4e5-8ad6fdd031fb",
   "metadata": {},
   "source": [
    "(c) Is the linear system $A\\vec{f}=\\vec{b}$ consistent?"
   ]
  },
  {
   "cell_type": "markdown",
   "id": "3a22d610-2c6c-4341-aec3-3b46c93e5018",
   "metadata": {},
   "source": [
    "<center>$\\color{red}{\\text{TO DO}}$"
   ]
  },
  {
   "cell_type": "markdown",
   "id": "d59d0395-75ec-498e-b1cb-a9d3a62e1a89",
   "metadata": {},
   "source": [
    "(d) What are the tensions and external forces in the bridge? Display your answer in a table."
   ]
  },
  {
   "cell_type": "markdown",
   "id": "f8131a03-de9a-452e-8224-7bfa96d3ce2f",
   "metadata": {},
   "source": [
    "<center>$\\color{red}{\\text{TO DO}}$"
   ]
  },
  {
   "cell_type": "markdown",
   "id": "022e785d-3f64-45ad-b631-d6af2588c795",
   "metadata": {},
   "source": [
    "(e) Which piece of the truss is being stretched the most? Which piece is being compressed the most?"
   ]
  },
  {
   "cell_type": "markdown",
   "id": "2454e36d-7e4c-46b7-bb80-ab7df251b271",
   "metadata": {},
   "source": [
    "<center>$\\color{red}{\\text{TO DO}}$"
   ]
  },
  {
   "cell_type": "markdown",
   "id": "b9b9c0ba-d200-4b97-b959-11f912e6be20",
   "metadata": {},
   "source": [
    "#### 4."
   ]
  },
  {
   "cell_type": "markdown",
   "id": "1bc43536-d70c-4d5a-aa04-44805955dc29",
   "metadata": {},
   "source": [
    "Suppose the load of 5,000 newtons at joint 3 is replaced by the “free” (unknown) force, $F_3$."
   ]
  },
  {
   "cell_type": "markdown",
   "id": "e618228d-d4f2-48d8-8a7a-1249a18ee440",
   "metadata": {},
   "source": [
    "(a) Write the system in the form $A\\vec{f}=\\vec{b}$. where $\\vec{f}=\\left[\\, f_1\\, f_2\\, f_3\\, f_4\\, f_5\\, F_1\\, F_2\\,\\right]^{T}$"
   ]
  },
  {
   "cell_type": "markdown",
   "id": "9feeee03-85d7-46c3-b8f7-1744e127b678",
   "metadata": {},
   "source": [
    "$$\\begin{bmatrix}\n",
    "        \\frac{\\sqrt{3}}{2} & 0 & \\frac{1}{2} & 0 & 0 & 0 & 0 & 0 \\\\\n",
    "        \\frac{\\sqrt{2}}{2} & 0 & 0 & 1 & 0 & 0 & 0 & 0 \\\\\n",
    "        0 & 0 & 0 & 1 & 1 & 0 & 0 & 0 \\\\\n",
    "        0 & 0 & \\frac{1}{2} & 0 & 1 & 0 & 0 & 0 \\\\\n",
    "        \\frac{\\sqrt{2}}{2} & 1 & \\frac{\\sqrt{3}}{2} & 0 & 0 & 0 & 0 & 0 \\\\\n",
    "        \\frac{\\sqrt{2}}{2} & 0 & 0 & 0 & 0 & 1 & 0 & 0 \\\\\n",
    "        0 & 1 & 0 & 0 & 0 & 0 & 0 & 1 \\\\\n",
    "        0 & 0 & \\frac{\\sqrt{3}}{2} & 0 & 0 & 0 & 1 & 0\\\\\n",
    "    \\end{bmatrix}\n",
    "\\times\n",
    "\\begin{bmatrix}\n",
    "        f_1 \\\\\n",
    "        f_2 \\\\\n",
    "        f_3 \\\\\n",
    "        f_4 \\\\\n",
    "        f_5 \\\\\n",
    "        F_1 \\\\\n",
    "        F_2 \\\\\n",
    "        F_3 \\\\\n",
    "    \\end{bmatrix}\n",
    "=\n",
    "\\begin{bmatrix}\n",
    "        0 \\\\\n",
    "        0 \\\\\n",
    "        0 \\\\\n",
    "        0 \\\\\n",
    "        0 \\\\\n",
    "        0 \\\\\n",
    "        0 \\\\\n",
    "        0 \\\\\n",
    "    \\end{bmatrix}\n",
    "$$"
   ]
  },
  {
   "cell_type": "markdown",
   "id": "bc71639e-db42-4de4-bea6-a323bfc9ea4c",
   "metadata": {},
   "source": [
    "(b) What are the orders of A, $\\vec{f}$, and $\\vec{b}$? Is the system overdetermined, underdetermined or neither?"
   ]
  },
  {
   "cell_type": "markdown",
   "id": "277ad479-dd50-46f5-976b-aab42217163e",
   "metadata": {},
   "source": [
    "The new orders of the matrices are as follows:\n",
    "\n",
    "$A$ = 8 x 8\n",
    "\n",
    "$\\vec{f}$ = 8 x 1\n",
    "\n",
    "$\\vec{b}$ = 8 x 1\n",
    "\n",
    "This now means that the system is neither overdetermined or underdetermined as $A$ is a square matrix meaning that there are an equal number of unknowns and equations."
   ]
  },
  {
   "cell_type": "markdown",
   "id": "48199fca-f4ed-411d-b98c-3806a174abc0",
   "metadata": {},
   "source": [
    "(c) Is it possible to calculate the determinant of A? If so, find it. If not, explain why not."
   ]
  },
  {
   "cell_type": "markdown",
   "id": "0ecec9e6-0a04-45bb-ad46-f116c1763532",
   "metadata": {},
   "source": [
    "Yes, as $A$ is now a square matrix we are able to calculate the determinant."
   ]
  },
  {
   "cell_type": "markdown",
   "id": "082c590e-97e0-4b3a-89c5-7b1c65fff821",
   "metadata": {},
   "source": [
    "(d) Can the coefficient matrix be inverted? If so, find the inverse of matrix A. If not, explain why not."
   ]
  },
  {
   "cell_type": "markdown",
   "id": "2834bc32-1c0d-4a51-89b2-50e73f8bf754",
   "metadata": {},
   "source": [
    "<center>$\\color{red}{\\text{TO DO}}$"
   ]
  },
  {
   "cell_type": "markdown",
   "id": "cf162521-43e9-40bb-b8c0-a55a97adc5ca",
   "metadata": {},
   "source": [
    "(e) Is the resulting linear system still solvable? If so, solve it. If not, explain why not. Include any matrices you use to solve the\n",
    "system in your report and display your solution in a table."
   ]
  },
  {
   "cell_type": "markdown",
   "id": "aae0f427-f741-444e-b277-e52ef2288a0e",
   "metadata": {},
   "source": [
    "<center>$\\color{red}{\\text{TO DO}}$"
   ]
  },
  {
   "cell_type": "markdown",
   "id": "b6bff95e-8e6f-4a45-9bea-62049c3b4a92",
   "metadata": {},
   "source": [
    "#### 5."
   ]
  },
  {
   "cell_type": "markdown",
   "id": "926b427a-c6ba-4eb3-b00a-e840392eff85",
   "metadata": {},
   "source": [
    "If $F_1$ and $F_2$ turn out to be negative, what does this mean physically?"
   ]
  },
  {
   "cell_type": "markdown",
   "id": "8aef4f64-6351-47b5-a4f5-e7be39324954",
   "metadata": {},
   "source": [
    "This would mean that the two forces are being created by supports on either end of the truss."
   ]
  },
  {
   "cell_type": "markdown",
   "id": "9a2e082c-e155-4bd4-b55d-d021aad94f7a",
   "metadata": {},
   "source": [
    "# 3  Deflection of a Uniform Beam"
   ]
  },
  {
   "cell_type": "markdown",
   "id": "5392a312-d387-4ce8-a060-15f5202f88ee",
   "metadata": {},
   "source": [
    "### 3.1 Introduction"
   ]
  },
  {
   "cell_type": "markdown",
   "id": "16eae895-a85d-4a05-80b7-ffe2202693bb",
   "metadata": {},
   "source": [
    "The second civil engineering problem we will study is to estimate the deflection y(x) of a beam under uniform loading, where the ends of\n",
    "the beam held in place (see Figure 2). With some simplifying assumptions, the deflection of a beam supported at x = 0 and x = L can be\n",
    "modeled by the boundary value problem (BVP)"
   ]
  },
  {
   "cell_type": "code",
   "execution_count": null,
   "id": "77c03392-0a1a-488d-b59c-5a5ed9909820",
   "metadata": {},
   "outputs": [],
   "source": []
  }
 ],
 "metadata": {
  "kernelspec": {
   "display_name": "Python 3 (ipykernel)",
   "language": "python",
   "name": "python3"
  },
  "language_info": {
   "codemirror_mode": {
    "name": "ipython",
    "version": 3
   },
   "file_extension": ".py",
   "mimetype": "text/x-python",
   "name": "python",
   "nbconvert_exporter": "python",
   "pygments_lexer": "ipython3",
   "version": "3.10.8"
  }
 },
 "nbformat": 4,
 "nbformat_minor": 5
}
